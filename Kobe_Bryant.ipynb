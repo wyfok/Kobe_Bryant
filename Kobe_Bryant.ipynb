{
 "cells": [
  {
   "cell_type": "markdown",
   "metadata": {},
   "source": [
    "# Kobe Bryant Shot Selection"
   ]
  },
  {
   "cell_type": "markdown",
   "metadata": {},
   "source": [
    "## __1.Preparation__"
   ]
  },
  {
   "cell_type": "markdown",
   "metadata": {},
   "source": [
    "#### Load libraries"
   ]
  },
  {
   "cell_type": "code",
   "execution_count": 106,
   "metadata": {},
   "outputs": [],
   "source": [
    "import numpy as np \n",
    "import pandas as pd \n",
    "import matplotlib.pyplot as plt \n",
    "import sklearn \n",
    "import seaborn as sns\n",
    "from sklearn.model_selection import train_test_split\n",
    "from sklearn.ensemble import RandomForestClassifier\n",
    "from sklearn.linear_model import LogisticRegression"
   ]
  },
  {
   "cell_type": "markdown",
   "metadata": {},
   "source": [
    "#### __Load dataset__"
   ]
  },
  {
   "cell_type": "code",
   "execution_count": 107,
   "metadata": {},
   "outputs": [],
   "source": [
    "data = pd.read_csv('~/github/Kobe_Bryant/data.csv')"
   ]
  },
  {
   "cell_type": "markdown",
   "metadata": {},
   "source": [
    "data.csv is downloaded from Kaggle \n",
    "Link: https://www.kaggle.com/c/kobe-bryant-shot-selection/data"
   ]
  },
  {
   "cell_type": "code",
   "execution_count": 108,
   "metadata": {
    "scrolled": true
   },
   "outputs": [
    {
     "data": {
      "text/html": [
       "<div>\n",
       "<style scoped>\n",
       "    .dataframe tbody tr th:only-of-type {\n",
       "        vertical-align: middle;\n",
       "    }\n",
       "\n",
       "    .dataframe tbody tr th {\n",
       "        vertical-align: top;\n",
       "    }\n",
       "\n",
       "    .dataframe thead th {\n",
       "        text-align: right;\n",
       "    }\n",
       "</style>\n",
       "<table border=\"1\" class=\"dataframe\">\n",
       "  <thead>\n",
       "    <tr style=\"text-align: right;\">\n",
       "      <th></th>\n",
       "      <th>action_type</th>\n",
       "      <th>combined_shot_type</th>\n",
       "      <th>game_event_id</th>\n",
       "      <th>game_id</th>\n",
       "      <th>lat</th>\n",
       "      <th>loc_x</th>\n",
       "      <th>loc_y</th>\n",
       "      <th>lon</th>\n",
       "      <th>minutes_remaining</th>\n",
       "      <th>period</th>\n",
       "      <th>...</th>\n",
       "      <th>shot_type</th>\n",
       "      <th>shot_zone_area</th>\n",
       "      <th>shot_zone_basic</th>\n",
       "      <th>shot_zone_range</th>\n",
       "      <th>team_id</th>\n",
       "      <th>team_name</th>\n",
       "      <th>game_date</th>\n",
       "      <th>matchup</th>\n",
       "      <th>opponent</th>\n",
       "      <th>shot_id</th>\n",
       "    </tr>\n",
       "  </thead>\n",
       "  <tbody>\n",
       "    <tr>\n",
       "      <th>0</th>\n",
       "      <td>Jump Shot</td>\n",
       "      <td>Jump Shot</td>\n",
       "      <td>10</td>\n",
       "      <td>20000012</td>\n",
       "      <td>33.9723</td>\n",
       "      <td>167</td>\n",
       "      <td>72</td>\n",
       "      <td>-118.1028</td>\n",
       "      <td>10</td>\n",
       "      <td>1</td>\n",
       "      <td>...</td>\n",
       "      <td>2PT Field Goal</td>\n",
       "      <td>Right Side(R)</td>\n",
       "      <td>Mid-Range</td>\n",
       "      <td>16-24 ft.</td>\n",
       "      <td>1610612747</td>\n",
       "      <td>Los Angeles Lakers</td>\n",
       "      <td>2000-10-31</td>\n",
       "      <td>LAL @ POR</td>\n",
       "      <td>POR</td>\n",
       "      <td>1</td>\n",
       "    </tr>\n",
       "    <tr>\n",
       "      <th>1</th>\n",
       "      <td>Jump Shot</td>\n",
       "      <td>Jump Shot</td>\n",
       "      <td>12</td>\n",
       "      <td>20000012</td>\n",
       "      <td>34.0443</td>\n",
       "      <td>-157</td>\n",
       "      <td>0</td>\n",
       "      <td>-118.4268</td>\n",
       "      <td>10</td>\n",
       "      <td>1</td>\n",
       "      <td>...</td>\n",
       "      <td>2PT Field Goal</td>\n",
       "      <td>Left Side(L)</td>\n",
       "      <td>Mid-Range</td>\n",
       "      <td>8-16 ft.</td>\n",
       "      <td>1610612747</td>\n",
       "      <td>Los Angeles Lakers</td>\n",
       "      <td>2000-10-31</td>\n",
       "      <td>LAL @ POR</td>\n",
       "      <td>POR</td>\n",
       "      <td>2</td>\n",
       "    </tr>\n",
       "    <tr>\n",
       "      <th>2</th>\n",
       "      <td>Jump Shot</td>\n",
       "      <td>Jump Shot</td>\n",
       "      <td>35</td>\n",
       "      <td>20000012</td>\n",
       "      <td>33.9093</td>\n",
       "      <td>-101</td>\n",
       "      <td>135</td>\n",
       "      <td>-118.3708</td>\n",
       "      <td>7</td>\n",
       "      <td>1</td>\n",
       "      <td>...</td>\n",
       "      <td>2PT Field Goal</td>\n",
       "      <td>Left Side Center(LC)</td>\n",
       "      <td>Mid-Range</td>\n",
       "      <td>16-24 ft.</td>\n",
       "      <td>1610612747</td>\n",
       "      <td>Los Angeles Lakers</td>\n",
       "      <td>2000-10-31</td>\n",
       "      <td>LAL @ POR</td>\n",
       "      <td>POR</td>\n",
       "      <td>3</td>\n",
       "    </tr>\n",
       "    <tr>\n",
       "      <th>3</th>\n",
       "      <td>Jump Shot</td>\n",
       "      <td>Jump Shot</td>\n",
       "      <td>43</td>\n",
       "      <td>20000012</td>\n",
       "      <td>33.8693</td>\n",
       "      <td>138</td>\n",
       "      <td>175</td>\n",
       "      <td>-118.1318</td>\n",
       "      <td>6</td>\n",
       "      <td>1</td>\n",
       "      <td>...</td>\n",
       "      <td>2PT Field Goal</td>\n",
       "      <td>Right Side Center(RC)</td>\n",
       "      <td>Mid-Range</td>\n",
       "      <td>16-24 ft.</td>\n",
       "      <td>1610612747</td>\n",
       "      <td>Los Angeles Lakers</td>\n",
       "      <td>2000-10-31</td>\n",
       "      <td>LAL @ POR</td>\n",
       "      <td>POR</td>\n",
       "      <td>4</td>\n",
       "    </tr>\n",
       "    <tr>\n",
       "      <th>4</th>\n",
       "      <td>Driving Dunk Shot</td>\n",
       "      <td>Dunk</td>\n",
       "      <td>155</td>\n",
       "      <td>20000012</td>\n",
       "      <td>34.0443</td>\n",
       "      <td>0</td>\n",
       "      <td>0</td>\n",
       "      <td>-118.2698</td>\n",
       "      <td>6</td>\n",
       "      <td>2</td>\n",
       "      <td>...</td>\n",
       "      <td>2PT Field Goal</td>\n",
       "      <td>Center(C)</td>\n",
       "      <td>Restricted Area</td>\n",
       "      <td>Less Than 8 ft.</td>\n",
       "      <td>1610612747</td>\n",
       "      <td>Los Angeles Lakers</td>\n",
       "      <td>2000-10-31</td>\n",
       "      <td>LAL @ POR</td>\n",
       "      <td>POR</td>\n",
       "      <td>5</td>\n",
       "    </tr>\n",
       "  </tbody>\n",
       "</table>\n",
       "<p>5 rows × 25 columns</p>\n",
       "</div>"
      ],
      "text/plain": [
       "         action_type combined_shot_type  game_event_id   game_id      lat  \\\n",
       "0          Jump Shot          Jump Shot             10  20000012  33.9723   \n",
       "1          Jump Shot          Jump Shot             12  20000012  34.0443   \n",
       "2          Jump Shot          Jump Shot             35  20000012  33.9093   \n",
       "3          Jump Shot          Jump Shot             43  20000012  33.8693   \n",
       "4  Driving Dunk Shot               Dunk            155  20000012  34.0443   \n",
       "\n",
       "   loc_x  loc_y       lon  minutes_remaining  period   ...          shot_type  \\\n",
       "0    167     72 -118.1028                 10       1   ...     2PT Field Goal   \n",
       "1   -157      0 -118.4268                 10       1   ...     2PT Field Goal   \n",
       "2   -101    135 -118.3708                  7       1   ...     2PT Field Goal   \n",
       "3    138    175 -118.1318                  6       1   ...     2PT Field Goal   \n",
       "4      0      0 -118.2698                  6       2   ...     2PT Field Goal   \n",
       "\n",
       "          shot_zone_area  shot_zone_basic  shot_zone_range     team_id  \\\n",
       "0          Right Side(R)        Mid-Range        16-24 ft.  1610612747   \n",
       "1           Left Side(L)        Mid-Range         8-16 ft.  1610612747   \n",
       "2   Left Side Center(LC)        Mid-Range        16-24 ft.  1610612747   \n",
       "3  Right Side Center(RC)        Mid-Range        16-24 ft.  1610612747   \n",
       "4              Center(C)  Restricted Area  Less Than 8 ft.  1610612747   \n",
       "\n",
       "            team_name   game_date    matchup opponent  shot_id  \n",
       "0  Los Angeles Lakers  2000-10-31  LAL @ POR      POR        1  \n",
       "1  Los Angeles Lakers  2000-10-31  LAL @ POR      POR        2  \n",
       "2  Los Angeles Lakers  2000-10-31  LAL @ POR      POR        3  \n",
       "3  Los Angeles Lakers  2000-10-31  LAL @ POR      POR        4  \n",
       "4  Los Angeles Lakers  2000-10-31  LAL @ POR      POR        5  \n",
       "\n",
       "[5 rows x 25 columns]"
      ]
     },
     "execution_count": 108,
     "metadata": {},
     "output_type": "execute_result"
    }
   ],
   "source": [
    "data.head()"
   ]
  },
  {
   "cell_type": "code",
   "execution_count": 109,
   "metadata": {
    "scrolled": true
   },
   "outputs": [
    {
     "data": {
      "text/plain": [
       "action_type            object\n",
       "combined_shot_type     object\n",
       "game_event_id           int64\n",
       "game_id                 int64\n",
       "lat                   float64\n",
       "loc_x                   int64\n",
       "loc_y                   int64\n",
       "lon                   float64\n",
       "minutes_remaining       int64\n",
       "period                  int64\n",
       "playoffs                int64\n",
       "season                 object\n",
       "seconds_remaining       int64\n",
       "shot_distance           int64\n",
       "shot_made_flag        float64\n",
       "shot_type              object\n",
       "shot_zone_area         object\n",
       "shot_zone_basic        object\n",
       "shot_zone_range        object\n",
       "team_id                 int64\n",
       "team_name              object\n",
       "game_date              object\n",
       "matchup                object\n",
       "opponent               object\n",
       "shot_id                 int64\n",
       "dtype: object"
      ]
     },
     "execution_count": 109,
     "metadata": {},
     "output_type": "execute_result"
    }
   ],
   "source": [
    "data.dtypes"
   ]
  },
  {
   "cell_type": "markdown",
   "metadata": {},
   "source": [
    "Some categorical fields are classified as numeric. Change types of some columns."
   ]
  },
  {
   "cell_type": "code",
   "execution_count": 110,
   "metadata": {},
   "outputs": [],
   "source": [
    "data['action_type']=data['action_type'].astype('category')\n",
    "data['combined_shot_type']=data['combined_shot_type'].astype('category')\n",
    "data['season']=data['season'].astype('category')\n",
    "data['shot_type']=data['shot_type'].astype('category')\n",
    "data['shot_zone_area']=data['shot_zone_area'].astype('category')\n",
    "data['shot_zone_basic']=data['shot_zone_basic'].astype('category')\n",
    "data['shot_zone_range']=data['shot_zone_range'].astype('category')\n",
    "data['team_name']=data['team_name'].astype('category')\n",
    "data['game_date']=data['game_date'].astype('category')\n",
    "data['matchup']=data['matchup'].astype('category')\n",
    "data['opponent']=data['opponent'].astype('category')\n",
    "data['game_event_id']=data['game_event_id'].astype('category')\n",
    "data['game_id']=data['game_id'].astype('category')\n",
    "data['period']=data['period'].astype('category')\n",
    "data['playoffs']=data['playoffs'].astype('category')\n",
    "data['shot_made_flag']=data['shot_made_flag'].astype('category')\n",
    "data['team_id']=data['team_id'].astype('category')\n",
    "data['shot_id']=data['shot_id'].astype('category')\n"
   ]
  },
  {
   "cell_type": "markdown",
   "metadata": {},
   "source": [
    "## __2. Summerize data__"
   ]
  },
  {
   "cell_type": "markdown",
   "metadata": {},
   "source": [
    "Summerize data to have a understanding "
   ]
  },
  {
   "cell_type": "code",
   "execution_count": 111,
   "metadata": {},
   "outputs": [
    {
     "data": {
      "text/plain": [
       "(30697, 25)"
      ]
     },
     "execution_count": 111,
     "metadata": {},
     "output_type": "execute_result"
    }
   ],
   "source": [
    "data.shape"
   ]
  },
  {
   "cell_type": "markdown",
   "metadata": {},
   "source": [
    "There are 30697 records and 25 columns."
   ]
  },
  {
   "cell_type": "code",
   "execution_count": 112,
   "metadata": {},
   "outputs": [
    {
     "data": {
      "text/html": [
       "<div>\n",
       "<style scoped>\n",
       "    .dataframe tbody tr th:only-of-type {\n",
       "        vertical-align: middle;\n",
       "    }\n",
       "\n",
       "    .dataframe tbody tr th {\n",
       "        vertical-align: top;\n",
       "    }\n",
       "\n",
       "    .dataframe thead th {\n",
       "        text-align: right;\n",
       "    }\n",
       "</style>\n",
       "<table border=\"1\" class=\"dataframe\">\n",
       "  <thead>\n",
       "    <tr style=\"text-align: right;\">\n",
       "      <th></th>\n",
       "      <th>lat</th>\n",
       "      <th>loc_x</th>\n",
       "      <th>loc_y</th>\n",
       "      <th>lon</th>\n",
       "      <th>minutes_remaining</th>\n",
       "      <th>seconds_remaining</th>\n",
       "      <th>shot_distance</th>\n",
       "    </tr>\n",
       "  </thead>\n",
       "  <tbody>\n",
       "    <tr>\n",
       "      <th>count</th>\n",
       "      <td>30697.000000</td>\n",
       "      <td>30697.000000</td>\n",
       "      <td>30697.000000</td>\n",
       "      <td>30697.000000</td>\n",
       "      <td>30697.000000</td>\n",
       "      <td>30697.000000</td>\n",
       "      <td>30697.000000</td>\n",
       "    </tr>\n",
       "    <tr>\n",
       "      <th>mean</th>\n",
       "      <td>33.953192</td>\n",
       "      <td>7.110499</td>\n",
       "      <td>91.107535</td>\n",
       "      <td>-118.262690</td>\n",
       "      <td>4.885624</td>\n",
       "      <td>28.365085</td>\n",
       "      <td>13.437437</td>\n",
       "    </tr>\n",
       "    <tr>\n",
       "      <th>std</th>\n",
       "      <td>0.087791</td>\n",
       "      <td>110.124578</td>\n",
       "      <td>87.791361</td>\n",
       "      <td>0.110125</td>\n",
       "      <td>3.449897</td>\n",
       "      <td>17.478949</td>\n",
       "      <td>9.374189</td>\n",
       "    </tr>\n",
       "    <tr>\n",
       "      <th>min</th>\n",
       "      <td>33.253300</td>\n",
       "      <td>-250.000000</td>\n",
       "      <td>-44.000000</td>\n",
       "      <td>-118.519800</td>\n",
       "      <td>0.000000</td>\n",
       "      <td>0.000000</td>\n",
       "      <td>0.000000</td>\n",
       "    </tr>\n",
       "    <tr>\n",
       "      <th>25%</th>\n",
       "      <td>33.884300</td>\n",
       "      <td>-68.000000</td>\n",
       "      <td>4.000000</td>\n",
       "      <td>-118.337800</td>\n",
       "      <td>2.000000</td>\n",
       "      <td>13.000000</td>\n",
       "      <td>5.000000</td>\n",
       "    </tr>\n",
       "    <tr>\n",
       "      <th>50%</th>\n",
       "      <td>33.970300</td>\n",
       "      <td>0.000000</td>\n",
       "      <td>74.000000</td>\n",
       "      <td>-118.269800</td>\n",
       "      <td>5.000000</td>\n",
       "      <td>28.000000</td>\n",
       "      <td>15.000000</td>\n",
       "    </tr>\n",
       "    <tr>\n",
       "      <th>75%</th>\n",
       "      <td>34.040300</td>\n",
       "      <td>95.000000</td>\n",
       "      <td>160.000000</td>\n",
       "      <td>-118.174800</td>\n",
       "      <td>8.000000</td>\n",
       "      <td>43.000000</td>\n",
       "      <td>21.000000</td>\n",
       "    </tr>\n",
       "    <tr>\n",
       "      <th>max</th>\n",
       "      <td>34.088300</td>\n",
       "      <td>248.000000</td>\n",
       "      <td>791.000000</td>\n",
       "      <td>-118.021800</td>\n",
       "      <td>11.000000</td>\n",
       "      <td>59.000000</td>\n",
       "      <td>79.000000</td>\n",
       "    </tr>\n",
       "  </tbody>\n",
       "</table>\n",
       "</div>"
      ],
      "text/plain": [
       "                lat         loc_x         loc_y           lon  \\\n",
       "count  30697.000000  30697.000000  30697.000000  30697.000000   \n",
       "mean      33.953192      7.110499     91.107535   -118.262690   \n",
       "std        0.087791    110.124578     87.791361      0.110125   \n",
       "min       33.253300   -250.000000    -44.000000   -118.519800   \n",
       "25%       33.884300    -68.000000      4.000000   -118.337800   \n",
       "50%       33.970300      0.000000     74.000000   -118.269800   \n",
       "75%       34.040300     95.000000    160.000000   -118.174800   \n",
       "max       34.088300    248.000000    791.000000   -118.021800   \n",
       "\n",
       "       minutes_remaining  seconds_remaining  shot_distance  \n",
       "count       30697.000000       30697.000000   30697.000000  \n",
       "mean            4.885624          28.365085      13.437437  \n",
       "std             3.449897          17.478949       9.374189  \n",
       "min             0.000000           0.000000       0.000000  \n",
       "25%             2.000000          13.000000       5.000000  \n",
       "50%             5.000000          28.000000      15.000000  \n",
       "75%             8.000000          43.000000      21.000000  \n",
       "max            11.000000          59.000000      79.000000  "
      ]
     },
     "execution_count": 112,
     "metadata": {},
     "output_type": "execute_result"
    }
   ],
   "source": [
    "data.describe(include=[np.number])"
   ]
  },
  {
   "cell_type": "markdown",
   "metadata": {},
   "source": [
    "## __3. Visualize data__ "
   ]
  },
  {
   "cell_type": "markdown",
   "metadata": {},
   "source": [
    "Visualize data for understanding"
   ]
  },
  {
   "cell_type": "code",
   "execution_count": 113,
   "metadata": {},
   "outputs": [
    {
     "data": {
      "image/png": "[encoded data removed]",
      "text/plain": [
       "<Figure size 432x288 with 1 Axes>"
      ]
     },
     "metadata": {},
     "output_type": "display_data"
    }
   ],
   "source": [
    "ax=plt.axes()\n",
    "sns.set(style=\"darkgrid\")\n",
    "sns.countplot(x='shot_made_flag',data=data,ax=ax)\n",
    "ax.set_title('Shot Made Flag')\n",
    "plt.show()\n"
   ]
  },
  {
   "cell_type": "code",
   "execution_count": 114,
   "metadata": {},
   "outputs": [],
   "source": [
    "loc_x_made=data[data['shot_made_flag']==1]['loc_x'].values.tolist()\n",
    "loc_y_made=data[data['shot_made_flag']==1]['loc_y'].values.tolist()\n",
    "loc_x_miss=data[data['shot_made_flag']==0]['loc_x'].values.tolist()\n",
    "loc_y_miss=data[data['shot_made_flag']==0]['loc_y'].values.tolist()"
   ]
  },
  {
   "cell_type": "code",
   "execution_count": 115,
   "metadata": {
    "scrolled": false
   },
   "outputs": [
    {
     "data": {
      "image/png": "[encoded data removed]",
      "text/plain": [
       "<Figure size 1080x1080 with 2 Axes>"
      ]
     },
     "metadata": {},
     "output_type": "display_data"
    }
   ],
   "source": [
    "fig,((ax1,ax2))=plt.subplots(1,2,figsize=(15,15))\n",
    "ax1.scatter(loc_x_made, loc_y_made,c='r')\n",
    "ax2.scatter(loc_x_miss, loc_y_miss,c='blue')\n",
    "ax1.set_title('Position of made shot')\n",
    "ax1.set_xlabel('loc_x')\n",
    "ax1.set_ylabel('loc_y')\n",
    "ax2.set_title('Position of miss shot')\n",
    "ax2.set_xlabel('loc_x')\n",
    "ax2.set_ylabel('loc_y')\n",
    "plt.show()"
   ]
  },
  {
   "cell_type": "markdown",
   "metadata": {},
   "source": [
    "Apparently when loc_y is larget then 300, there is a high possibility that the shot will miss. "
   ]
  },
  {
   "cell_type": "code",
   "execution_count": 116,
   "metadata": {},
   "outputs": [
    {
     "data": {
      "image/png": "[encoded data removed]",
      "text/plain": [
       "<Figure size 576x576 with 2 Axes>"
      ]
     },
     "metadata": {},
     "output_type": "display_data"
    }
   ],
   "source": [
    "fig,((ax1,ax2))=plt.subplots(1,2,figsize=(8,8))\n",
    "ax1.boxplot(loc_y_made)\n",
    "ax2.boxplot(loc_y_miss)\n",
    "ax1.set_title('Position of made shot')\n",
    "ax1.set_xticklabels('')\n",
    "ax1.set_ylabel('loc_y')\n",
    "ax2.set_title('Position of miss shot')\n",
    "ax2.set_xticklabels('')\n",
    "ax2.set_ylabel('loc_y')\n",
    "plt.show()"
   ]
  },
  {
   "cell_type": "markdown",
   "metadata": {},
   "source": [
    "From boxplot, this can also show loc_y is one of factor for considering if the shot was made.\n",
    "Most made shots are within loc_y less than 300 "
   ]
  },
  {
   "cell_type": "markdown",
   "metadata": {},
   "source": [
    "## __4. Data preparation__"
   ]
  },
  {
   "cell_type": "markdown",
   "metadata": {},
   "source": [
    "Some columns contain unique information and therefore no predictive power\n",
    "Need to inspect and delete from dataset before predicting"
   ]
  },
  {
   "cell_type": "code",
   "execution_count": 117,
   "metadata": {},
   "outputs": [
    {
     "data": {
      "text/plain": [
       "0"
      ]
     },
     "execution_count": 117,
     "metadata": {},
     "output_type": "execute_result"
    }
   ],
   "source": [
    "len(np.unique(data.shot_id))-len(data.shot_id)"
   ]
  },
  {
   "cell_type": "code",
   "execution_count": 118,
   "metadata": {},
   "outputs": [
    {
     "data": {
      "text/plain": [
       "1"
      ]
     },
     "execution_count": 118,
     "metadata": {},
     "output_type": "execute_result"
    }
   ],
   "source": [
    "len(np.unique(data.team_id))"
   ]
  },
  {
   "cell_type": "code",
   "execution_count": 119,
   "metadata": {},
   "outputs": [
    {
     "data": {
      "text/plain": [
       "1"
      ]
     },
     "execution_count": 119,
     "metadata": {},
     "output_type": "execute_result"
    }
   ],
   "source": [
    "len(np.unique(data.team_name))"
   ]
  },
  {
   "cell_type": "markdown",
   "metadata": {},
   "source": [
    "shot_id is unique. Therefore shot_id can be deleted.\n",
    "\n",
    "Thanks to Kobe's loyality, there is only one team_id and one team_name. Therefore these two fields have no predictive power."
   ]
  },
  {
   "cell_type": "code",
   "execution_count": 120,
   "metadata": {},
   "outputs": [],
   "source": [
    "del data['shot_id']\n",
    "del data['team_id']\n",
    "del data['team_name']"
   ]
  },
  {
   "cell_type": "code",
   "execution_count": 121,
   "metadata": {},
   "outputs": [
    {
     "data": {
      "text/html": [
       "<div>\n",
       "<style scoped>\n",
       "    .dataframe tbody tr th:only-of-type {\n",
       "        vertical-align: middle;\n",
       "    }\n",
       "\n",
       "    .dataframe tbody tr th {\n",
       "        vertical-align: top;\n",
       "    }\n",
       "\n",
       "    .dataframe thead th {\n",
       "        text-align: right;\n",
       "    }\n",
       "</style>\n",
       "<table border=\"1\" class=\"dataframe\">\n",
       "  <thead>\n",
       "    <tr style=\"text-align: right;\">\n",
       "      <th></th>\n",
       "      <th>action_type</th>\n",
       "      <th>combined_shot_type</th>\n",
       "      <th>game_event_id</th>\n",
       "      <th>game_id</th>\n",
       "      <th>lat</th>\n",
       "      <th>loc_x</th>\n",
       "      <th>loc_y</th>\n",
       "      <th>lon</th>\n",
       "      <th>minutes_remaining</th>\n",
       "      <th>period</th>\n",
       "      <th>...</th>\n",
       "      <th>seconds_remaining</th>\n",
       "      <th>shot_distance</th>\n",
       "      <th>shot_made_flag</th>\n",
       "      <th>shot_type</th>\n",
       "      <th>shot_zone_area</th>\n",
       "      <th>shot_zone_basic</th>\n",
       "      <th>shot_zone_range</th>\n",
       "      <th>game_date</th>\n",
       "      <th>matchup</th>\n",
       "      <th>opponent</th>\n",
       "    </tr>\n",
       "  </thead>\n",
       "  <tbody>\n",
       "    <tr>\n",
       "      <th>0</th>\n",
       "      <td>Jump Shot</td>\n",
       "      <td>Jump Shot</td>\n",
       "      <td>10</td>\n",
       "      <td>20000012</td>\n",
       "      <td>33.9723</td>\n",
       "      <td>167</td>\n",
       "      <td>72</td>\n",
       "      <td>-118.1028</td>\n",
       "      <td>10</td>\n",
       "      <td>1</td>\n",
       "      <td>...</td>\n",
       "      <td>27</td>\n",
       "      <td>18</td>\n",
       "      <td>NaN</td>\n",
       "      <td>2PT Field Goal</td>\n",
       "      <td>Right Side(R)</td>\n",
       "      <td>Mid-Range</td>\n",
       "      <td>16-24 ft.</td>\n",
       "      <td>2000-10-31</td>\n",
       "      <td>LAL @ POR</td>\n",
       "      <td>POR</td>\n",
       "    </tr>\n",
       "    <tr>\n",
       "      <th>1</th>\n",
       "      <td>Jump Shot</td>\n",
       "      <td>Jump Shot</td>\n",
       "      <td>12</td>\n",
       "      <td>20000012</td>\n",
       "      <td>34.0443</td>\n",
       "      <td>-157</td>\n",
       "      <td>0</td>\n",
       "      <td>-118.4268</td>\n",
       "      <td>10</td>\n",
       "      <td>1</td>\n",
       "      <td>...</td>\n",
       "      <td>22</td>\n",
       "      <td>15</td>\n",
       "      <td>0.0</td>\n",
       "      <td>2PT Field Goal</td>\n",
       "      <td>Left Side(L)</td>\n",
       "      <td>Mid-Range</td>\n",
       "      <td>8-16 ft.</td>\n",
       "      <td>2000-10-31</td>\n",
       "      <td>LAL @ POR</td>\n",
       "      <td>POR</td>\n",
       "    </tr>\n",
       "    <tr>\n",
       "      <th>2</th>\n",
       "      <td>Jump Shot</td>\n",
       "      <td>Jump Shot</td>\n",
       "      <td>35</td>\n",
       "      <td>20000012</td>\n",
       "      <td>33.9093</td>\n",
       "      <td>-101</td>\n",
       "      <td>135</td>\n",
       "      <td>-118.3708</td>\n",
       "      <td>7</td>\n",
       "      <td>1</td>\n",
       "      <td>...</td>\n",
       "      <td>45</td>\n",
       "      <td>16</td>\n",
       "      <td>1.0</td>\n",
       "      <td>2PT Field Goal</td>\n",
       "      <td>Left Side Center(LC)</td>\n",
       "      <td>Mid-Range</td>\n",
       "      <td>16-24 ft.</td>\n",
       "      <td>2000-10-31</td>\n",
       "      <td>LAL @ POR</td>\n",
       "      <td>POR</td>\n",
       "    </tr>\n",
       "    <tr>\n",
       "      <th>3</th>\n",
       "      <td>Jump Shot</td>\n",
       "      <td>Jump Shot</td>\n",
       "      <td>43</td>\n",
       "      <td>20000012</td>\n",
       "      <td>33.8693</td>\n",
       "      <td>138</td>\n",
       "      <td>175</td>\n",
       "      <td>-118.1318</td>\n",
       "      <td>6</td>\n",
       "      <td>1</td>\n",
       "      <td>...</td>\n",
       "      <td>52</td>\n",
       "      <td>22</td>\n",
       "      <td>0.0</td>\n",
       "      <td>2PT Field Goal</td>\n",
       "      <td>Right Side Center(RC)</td>\n",
       "      <td>Mid-Range</td>\n",
       "      <td>16-24 ft.</td>\n",
       "      <td>2000-10-31</td>\n",
       "      <td>LAL @ POR</td>\n",
       "      <td>POR</td>\n",
       "    </tr>\n",
       "    <tr>\n",
       "      <th>4</th>\n",
       "      <td>Driving Dunk Shot</td>\n",
       "      <td>Dunk</td>\n",
       "      <td>155</td>\n",
       "      <td>20000012</td>\n",
       "      <td>34.0443</td>\n",
       "      <td>0</td>\n",
       "      <td>0</td>\n",
       "      <td>-118.2698</td>\n",
       "      <td>6</td>\n",
       "      <td>2</td>\n",
       "      <td>...</td>\n",
       "      <td>19</td>\n",
       "      <td>0</td>\n",
       "      <td>1.0</td>\n",
       "      <td>2PT Field Goal</td>\n",
       "      <td>Center(C)</td>\n",
       "      <td>Restricted Area</td>\n",
       "      <td>Less Than 8 ft.</td>\n",
       "      <td>2000-10-31</td>\n",
       "      <td>LAL @ POR</td>\n",
       "      <td>POR</td>\n",
       "    </tr>\n",
       "  </tbody>\n",
       "</table>\n",
       "<p>5 rows × 22 columns</p>\n",
       "</div>"
      ],
      "text/plain": [
       "         action_type combined_shot_type game_event_id   game_id      lat  \\\n",
       "0          Jump Shot          Jump Shot            10  20000012  33.9723   \n",
       "1          Jump Shot          Jump Shot            12  20000012  34.0443   \n",
       "2          Jump Shot          Jump Shot            35  20000012  33.9093   \n",
       "3          Jump Shot          Jump Shot            43  20000012  33.8693   \n",
       "4  Driving Dunk Shot               Dunk           155  20000012  34.0443   \n",
       "\n",
       "   loc_x  loc_y       lon  minutes_remaining period   ...     \\\n",
       "0    167     72 -118.1028                 10      1   ...      \n",
       "1   -157      0 -118.4268                 10      1   ...      \n",
       "2   -101    135 -118.3708                  7      1   ...      \n",
       "3    138    175 -118.1318                  6      1   ...      \n",
       "4      0      0 -118.2698                  6      2   ...      \n",
       "\n",
       "  seconds_remaining shot_distance  shot_made_flag       shot_type  \\\n",
       "0                27            18             NaN  2PT Field Goal   \n",
       "1                22            15             0.0  2PT Field Goal   \n",
       "2                45            16             1.0  2PT Field Goal   \n",
       "3                52            22             0.0  2PT Field Goal   \n",
       "4                19             0             1.0  2PT Field Goal   \n",
       "\n",
       "          shot_zone_area  shot_zone_basic  shot_zone_range   game_date  \\\n",
       "0          Right Side(R)        Mid-Range        16-24 ft.  2000-10-31   \n",
       "1           Left Side(L)        Mid-Range         8-16 ft.  2000-10-31   \n",
       "2   Left Side Center(LC)        Mid-Range        16-24 ft.  2000-10-31   \n",
       "3  Right Side Center(RC)        Mid-Range        16-24 ft.  2000-10-31   \n",
       "4              Center(C)  Restricted Area  Less Than 8 ft.  2000-10-31   \n",
       "\n",
       "     matchup opponent  \n",
       "0  LAL @ POR      POR  \n",
       "1  LAL @ POR      POR  \n",
       "2  LAL @ POR      POR  \n",
       "3  LAL @ POR      POR  \n",
       "4  LAL @ POR      POR  \n",
       "\n",
       "[5 rows x 22 columns]"
      ]
     },
     "execution_count": 121,
     "metadata": {},
     "output_type": "execute_result"
    }
   ],
   "source": [
    "data.head()"
   ]
  },
  {
   "cell_type": "markdown",
   "metadata": {},
   "source": [
    "lat and lon are possibly the same as loc_x and loc_y. Can use scatter plot to determine."
   ]
  },
  {
   "cell_type": "code",
   "execution_count": 122,
   "metadata": {},
   "outputs": [
    {
     "data": {
      "text/plain": [
       "<matplotlib.collections.PathCollection at 0x9d52ee0e10>"
      ]
     },
     "execution_count": 122,
     "metadata": {},
     "output_type": "execute_result"
    },
    {
     "data": {
      "image/png": "[encoded data removed]",
      "text/plain": [
       "<Figure size 432x288 with 1 Axes>"
      ]
     },
     "metadata": {},
     "output_type": "display_data"
    }
   ],
   "source": [
    "plt.scatter(data['lon'],data['loc_x'])"
   ]
  },
  {
   "cell_type": "code",
   "execution_count": 123,
   "metadata": {},
   "outputs": [
    {
     "data": {
      "text/plain": [
       "<matplotlib.collections.PathCollection at 0x9d52f79828>"
      ]
     },
     "execution_count": 123,
     "metadata": {},
     "output_type": "execute_result"
    },
    {
     "data": {
      "image/png": "[encoded data removed]",
      "text/plain": [
       "<Figure size 432x288 with 1 Axes>"
      ]
     },
     "metadata": {},
     "output_type": "display_data"
    }
   ],
   "source": [
    "plt.scatter(data['lat'],data['loc_y'])"
   ]
  },
  {
   "cell_type": "markdown",
   "metadata": {},
   "source": [
    "By scatter plots, lon and lat are the same as loc_x and loc_y respectively. Only one set is needed "
   ]
  },
  {
   "cell_type": "code",
   "execution_count": 124,
   "metadata": {},
   "outputs": [],
   "source": [
    "del data['lon']\n",
    "del data['lat']"
   ]
  },
  {
   "cell_type": "code",
   "execution_count": 125,
   "metadata": {},
   "outputs": [
    {
     "data": {
      "text/html": [
       "<div>\n",
       "<style scoped>\n",
       "    .dataframe tbody tr th:only-of-type {\n",
       "        vertical-align: middle;\n",
       "    }\n",
       "\n",
       "    .dataframe tbody tr th {\n",
       "        vertical-align: top;\n",
       "    }\n",
       "\n",
       "    .dataframe thead th {\n",
       "        text-align: right;\n",
       "    }\n",
       "</style>\n",
       "<table border=\"1\" class=\"dataframe\">\n",
       "  <thead>\n",
       "    <tr style=\"text-align: right;\">\n",
       "      <th></th>\n",
       "      <th>action_type</th>\n",
       "      <th>combined_shot_type</th>\n",
       "      <th>game_event_id</th>\n",
       "      <th>game_id</th>\n",
       "      <th>loc_x</th>\n",
       "      <th>loc_y</th>\n",
       "      <th>minutes_remaining</th>\n",
       "      <th>period</th>\n",
       "      <th>playoffs</th>\n",
       "      <th>season</th>\n",
       "      <th>seconds_remaining</th>\n",
       "      <th>shot_distance</th>\n",
       "      <th>shot_made_flag</th>\n",
       "      <th>shot_type</th>\n",
       "      <th>shot_zone_area</th>\n",
       "      <th>shot_zone_basic</th>\n",
       "      <th>shot_zone_range</th>\n",
       "      <th>game_date</th>\n",
       "      <th>matchup</th>\n",
       "      <th>opponent</th>\n",
       "    </tr>\n",
       "  </thead>\n",
       "  <tbody>\n",
       "    <tr>\n",
       "      <th>0</th>\n",
       "      <td>Jump Shot</td>\n",
       "      <td>Jump Shot</td>\n",
       "      <td>10</td>\n",
       "      <td>20000012</td>\n",
       "      <td>167</td>\n",
       "      <td>72</td>\n",
       "      <td>10</td>\n",
       "      <td>1</td>\n",
       "      <td>0</td>\n",
       "      <td>2000-01</td>\n",
       "      <td>27</td>\n",
       "      <td>18</td>\n",
       "      <td>NaN</td>\n",
       "      <td>2PT Field Goal</td>\n",
       "      <td>Right Side(R)</td>\n",
       "      <td>Mid-Range</td>\n",
       "      <td>16-24 ft.</td>\n",
       "      <td>2000-10-31</td>\n",
       "      <td>LAL @ POR</td>\n",
       "      <td>POR</td>\n",
       "    </tr>\n",
       "    <tr>\n",
       "      <th>1</th>\n",
       "      <td>Jump Shot</td>\n",
       "      <td>Jump Shot</td>\n",
       "      <td>12</td>\n",
       "      <td>20000012</td>\n",
       "      <td>-157</td>\n",
       "      <td>0</td>\n",
       "      <td>10</td>\n",
       "      <td>1</td>\n",
       "      <td>0</td>\n",
       "      <td>2000-01</td>\n",
       "      <td>22</td>\n",
       "      <td>15</td>\n",
       "      <td>0.0</td>\n",
       "      <td>2PT Field Goal</td>\n",
       "      <td>Left Side(L)</td>\n",
       "      <td>Mid-Range</td>\n",
       "      <td>8-16 ft.</td>\n",
       "      <td>2000-10-31</td>\n",
       "      <td>LAL @ POR</td>\n",
       "      <td>POR</td>\n",
       "    </tr>\n",
       "    <tr>\n",
       "      <th>2</th>\n",
       "      <td>Jump Shot</td>\n",
       "      <td>Jump Shot</td>\n",
       "      <td>35</td>\n",
       "      <td>20000012</td>\n",
       "      <td>-101</td>\n",
       "      <td>135</td>\n",
       "      <td>7</td>\n",
       "      <td>1</td>\n",
       "      <td>0</td>\n",
       "      <td>2000-01</td>\n",
       "      <td>45</td>\n",
       "      <td>16</td>\n",
       "      <td>1.0</td>\n",
       "      <td>2PT Field Goal</td>\n",
       "      <td>Left Side Center(LC)</td>\n",
       "      <td>Mid-Range</td>\n",
       "      <td>16-24 ft.</td>\n",
       "      <td>2000-10-31</td>\n",
       "      <td>LAL @ POR</td>\n",
       "      <td>POR</td>\n",
       "    </tr>\n",
       "    <tr>\n",
       "      <th>3</th>\n",
       "      <td>Jump Shot</td>\n",
       "      <td>Jump Shot</td>\n",
       "      <td>43</td>\n",
       "      <td>20000012</td>\n",
       "      <td>138</td>\n",
       "      <td>175</td>\n",
       "      <td>6</td>\n",
       "      <td>1</td>\n",
       "      <td>0</td>\n",
       "      <td>2000-01</td>\n",
       "      <td>52</td>\n",
       "      <td>22</td>\n",
       "      <td>0.0</td>\n",
       "      <td>2PT Field Goal</td>\n",
       "      <td>Right Side Center(RC)</td>\n",
       "      <td>Mid-Range</td>\n",
       "      <td>16-24 ft.</td>\n",
       "      <td>2000-10-31</td>\n",
       "      <td>LAL @ POR</td>\n",
       "      <td>POR</td>\n",
       "    </tr>\n",
       "    <tr>\n",
       "      <th>4</th>\n",
       "      <td>Driving Dunk Shot</td>\n",
       "      <td>Dunk</td>\n",
       "      <td>155</td>\n",
       "      <td>20000012</td>\n",
       "      <td>0</td>\n",
       "      <td>0</td>\n",
       "      <td>6</td>\n",
       "      <td>2</td>\n",
       "      <td>0</td>\n",
       "      <td>2000-01</td>\n",
       "      <td>19</td>\n",
       "      <td>0</td>\n",
       "      <td>1.0</td>\n",
       "      <td>2PT Field Goal</td>\n",
       "      <td>Center(C)</td>\n",
       "      <td>Restricted Area</td>\n",
       "      <td>Less Than 8 ft.</td>\n",
       "      <td>2000-10-31</td>\n",
       "      <td>LAL @ POR</td>\n",
       "      <td>POR</td>\n",
       "    </tr>\n",
       "  </tbody>\n",
       "</table>\n",
       "</div>"
      ],
      "text/plain": [
       "         action_type combined_shot_type game_event_id   game_id  loc_x  loc_y  \\\n",
       "0          Jump Shot          Jump Shot            10  20000012    167     72   \n",
       "1          Jump Shot          Jump Shot            12  20000012   -157      0   \n",
       "2          Jump Shot          Jump Shot            35  20000012   -101    135   \n",
       "3          Jump Shot          Jump Shot            43  20000012    138    175   \n",
       "4  Driving Dunk Shot               Dunk           155  20000012      0      0   \n",
       "\n",
       "   minutes_remaining period playoffs   season  seconds_remaining  \\\n",
       "0                 10      1        0  2000-01                 27   \n",
       "1                 10      1        0  2000-01                 22   \n",
       "2                  7      1        0  2000-01                 45   \n",
       "3                  6      1        0  2000-01                 52   \n",
       "4                  6      2        0  2000-01                 19   \n",
       "\n",
       "   shot_distance shot_made_flag       shot_type         shot_zone_area  \\\n",
       "0             18            NaN  2PT Field Goal          Right Side(R)   \n",
       "1             15            0.0  2PT Field Goal           Left Side(L)   \n",
       "2             16            1.0  2PT Field Goal   Left Side Center(LC)   \n",
       "3             22            0.0  2PT Field Goal  Right Side Center(RC)   \n",
       "4              0            1.0  2PT Field Goal              Center(C)   \n",
       "\n",
       "   shot_zone_basic  shot_zone_range   game_date    matchup opponent  \n",
       "0        Mid-Range        16-24 ft.  2000-10-31  LAL @ POR      POR  \n",
       "1        Mid-Range         8-16 ft.  2000-10-31  LAL @ POR      POR  \n",
       "2        Mid-Range        16-24 ft.  2000-10-31  LAL @ POR      POR  \n",
       "3        Mid-Range        16-24 ft.  2000-10-31  LAL @ POR      POR  \n",
       "4  Restricted Area  Less Than 8 ft.  2000-10-31  LAL @ POR      POR  "
      ]
     },
     "execution_count": 125,
     "metadata": {},
     "output_type": "execute_result"
    }
   ],
   "source": [
    "data.head()"
   ]
  },
  {
   "cell_type": "markdown",
   "metadata": {},
   "source": [
    "For simplicity, assume each shot is independent to other shots(although in reality, there may be some dependence between shots)\n",
    "Therefore gave_event_id, game_id can be deleted "
   ]
  },
  {
   "cell_type": "code",
   "execution_count": 126,
   "metadata": {},
   "outputs": [],
   "source": [
    "del data['game_event_id']\n",
    "del data['game_id']"
   ]
  },
  {
   "cell_type": "markdown",
   "metadata": {},
   "source": [
    "Seems there are two columns describing opponent. Need to investigate which one should be used"
   ]
  },
  {
   "cell_type": "code",
   "execution_count": 127,
   "metadata": {},
   "outputs": [
    {
     "data": {
      "text/plain": [
       "array(['LAL @ ATL', 'LAL @ BKN', 'LAL @ BOS', 'LAL @ CHA', 'LAL @ CHH',\n",
       "       'LAL @ CHI', 'LAL @ CLE', 'LAL @ DAL', 'LAL @ DEN', 'LAL @ DET',\n",
       "       'LAL @ GSW', 'LAL @ HOU', 'LAL @ IND', 'LAL @ LAC', 'LAL @ MEM',\n",
       "       'LAL @ MIA', 'LAL @ MIL', 'LAL @ MIN', 'LAL @ NJN', 'LAL @ NOH',\n",
       "       'LAL @ NOK', 'LAL @ NOP', 'LAL @ NYK', 'LAL @ OKC', 'LAL @ ORL',\n",
       "       'LAL @ PHI', 'LAL @ PHO', 'LAL @ PHX', 'LAL @ POR', 'LAL @ SAC',\n",
       "       'LAL @ SAS', 'LAL @ SEA', 'LAL @ TOR', 'LAL @ UTA', 'LAL @ UTH',\n",
       "       'LAL @ VAN', 'LAL @ WAS', 'LAL vs. ATL', 'LAL vs. BKN',\n",
       "       'LAL vs. BOS', 'LAL vs. CHA', 'LAL vs. CHH', 'LAL vs. CHI',\n",
       "       'LAL vs. CLE', 'LAL vs. DAL', 'LAL vs. DEN', 'LAL vs. DET',\n",
       "       'LAL vs. GSW', 'LAL vs. HOU', 'LAL vs. IND', 'LAL vs. LAC',\n",
       "       'LAL vs. MEM', 'LAL vs. MIA', 'LAL vs. MIL', 'LAL vs. MIN',\n",
       "       'LAL vs. NJN', 'LAL vs. NOH', 'LAL vs. NOK', 'LAL vs. NOP',\n",
       "       'LAL vs. NYK', 'LAL vs. OKC', 'LAL vs. ORL', 'LAL vs. PHI',\n",
       "       'LAL vs. PHO', 'LAL vs. PHX', 'LAL vs. POR', 'LAL vs. SAC',\n",
       "       'LAL vs. SAN', 'LAL vs. SAS', 'LAL vs. SEA', 'LAL vs. TOR',\n",
       "       'LAL vs. UTA', 'LAL vs. VAN', 'LAL vs. WAS'], dtype=object)"
      ]
     },
     "execution_count": 127,
     "metadata": {},
     "output_type": "execute_result"
    }
   ],
   "source": [
    "np.unique(data['matchup'])"
   ]
  },
  {
   "cell_type": "code",
   "execution_count": 128,
   "metadata": {},
   "outputs": [
    {
     "data": {
      "text/plain": [
       "array(['ATL', 'BKN', 'BOS', 'CHA', 'CHI', 'CLE', 'DAL', 'DEN', 'DET',\n",
       "       'GSW', 'HOU', 'IND', 'LAC', 'MEM', 'MIA', 'MIL', 'MIN', 'NJN',\n",
       "       'NOH', 'NOP', 'NYK', 'OKC', 'ORL', 'PHI', 'PHX', 'POR', 'SAC',\n",
       "       'SAS', 'SEA', 'TOR', 'UTA', 'VAN', 'WAS'], dtype=object)"
      ]
     },
     "execution_count": 128,
     "metadata": {},
     "output_type": "execute_result"
    }
   ],
   "source": [
    "np.unique(data['opponent'])"
   ]
  },
  {
   "cell_type": "code",
   "execution_count": 129,
   "metadata": {},
   "outputs": [],
   "source": [
    "matchup_opponent = np.unique([(lambda x : x[-3:])(x) for x in data['matchup']])"
   ]
  },
  {
   "cell_type": "code",
   "execution_count": 130,
   "metadata": {},
   "outputs": [
    {
     "data": {
      "text/plain": [
       "array(['ATL', 'BKN', 'BOS', 'CHA', 'CHH', 'CHI', 'CLE', 'DAL', 'DEN',\n",
       "       'DET', 'GSW', 'HOU', 'IND', 'LAC', 'MEM', 'MIA', 'MIL', 'MIN',\n",
       "       'NJN', 'NOH', 'NOK', 'NOP', 'NYK', 'OKC', 'ORL', 'PHI', 'PHO',\n",
       "       'PHX', 'POR', 'SAC', 'SAN', 'SAS', 'SEA', 'TOR', 'UTA', 'UTH',\n",
       "       'VAN', 'WAS'], dtype='<U3')"
      ]
     },
     "execution_count": 130,
     "metadata": {},
     "output_type": "execute_result"
    }
   ],
   "source": [
    "matchup_opponent"
   ]
  },
  {
   "cell_type": "markdown",
   "metadata": {},
   "source": [
    "Apparently there are some typo in opponent name in makeup column, for simplicity, use opponent column directly and delete matchup column."
   ]
  },
  {
   "cell_type": "code",
   "execution_count": 131,
   "metadata": {},
   "outputs": [],
   "source": [
    "del data['matchup']"
   ]
  },
  {
   "cell_type": "markdown",
   "metadata": {},
   "source": [
    "Another columns needed to be inspected are action_type and combined_shot_type. Seems combined_shot_type is a broader view of shot_type."
   ]
  },
  {
   "cell_type": "code",
   "execution_count": 132,
   "metadata": {},
   "outputs": [
    {
     "data": {
      "text/html": [
       "<div>\n",
       "<style scoped>\n",
       "    .dataframe tbody tr th:only-of-type {\n",
       "        vertical-align: middle;\n",
       "    }\n",
       "\n",
       "    .dataframe tbody tr th {\n",
       "        vertical-align: top;\n",
       "    }\n",
       "\n",
       "    .dataframe thead th {\n",
       "        text-align: right;\n",
       "    }\n",
       "</style>\n",
       "<table border=\"1\" class=\"dataframe\">\n",
       "  <thead>\n",
       "    <tr style=\"text-align: right;\">\n",
       "      <th></th>\n",
       "      <th>combined_shot_type</th>\n",
       "      <th>action_type</th>\n",
       "    </tr>\n",
       "  </thead>\n",
       "  <tbody>\n",
       "    <tr>\n",
       "      <th>12043</th>\n",
       "      <td>Bank Shot</td>\n",
       "      <td>Running Bank shot</td>\n",
       "    </tr>\n",
       "    <tr>\n",
       "      <th>6576</th>\n",
       "      <td>Bank Shot</td>\n",
       "      <td>Hook Bank Shot</td>\n",
       "    </tr>\n",
       "    <tr>\n",
       "      <th>12534</th>\n",
       "      <td>Bank Shot</td>\n",
       "      <td>Driving Bank shot</td>\n",
       "    </tr>\n",
       "    <tr>\n",
       "      <th>11825</th>\n",
       "      <td>Bank Shot</td>\n",
       "      <td>Turnaround Bank shot</td>\n",
       "    </tr>\n",
       "    <tr>\n",
       "      <th>13291</th>\n",
       "      <td>Bank Shot</td>\n",
       "      <td>Pullup Bank shot</td>\n",
       "    </tr>\n",
       "    <tr>\n",
       "      <th>312</th>\n",
       "      <td>Dunk</td>\n",
       "      <td>Running Dunk Shot</td>\n",
       "    </tr>\n",
       "    <tr>\n",
       "      <th>164</th>\n",
       "      <td>Dunk</td>\n",
       "      <td>Dunk Shot</td>\n",
       "    </tr>\n",
       "    <tr>\n",
       "      <th>144</th>\n",
       "      <td>Dunk</td>\n",
       "      <td>Alley Oop Dunk Shot</td>\n",
       "    </tr>\n",
       "    <tr>\n",
       "      <th>12001</th>\n",
       "      <td>Dunk</td>\n",
       "      <td>Putback Slam Dunk Shot</td>\n",
       "    </tr>\n",
       "    <tr>\n",
       "      <th>13042</th>\n",
       "      <td>Dunk</td>\n",
       "      <td>Putback Dunk Shot</td>\n",
       "    </tr>\n",
       "    <tr>\n",
       "      <th>46</th>\n",
       "      <td>Dunk</td>\n",
       "      <td>Reverse Dunk Shot</td>\n",
       "    </tr>\n",
       "    <tr>\n",
       "      <th>20707</th>\n",
       "      <td>Dunk</td>\n",
       "      <td>Running Slam Dunk Shot</td>\n",
       "    </tr>\n",
       "    <tr>\n",
       "      <th>11813</th>\n",
       "      <td>Dunk</td>\n",
       "      <td>Reverse Slam Dunk Shot</td>\n",
       "    </tr>\n",
       "    <tr>\n",
       "      <th>11776</th>\n",
       "      <td>Dunk</td>\n",
       "      <td>Driving Slam Dunk Shot</td>\n",
       "    </tr>\n",
       "    <tr>\n",
       "      <th>4</th>\n",
       "      <td>Dunk</td>\n",
       "      <td>Driving Dunk Shot</td>\n",
       "    </tr>\n",
       "    <tr>\n",
       "      <th>47</th>\n",
       "      <td>Dunk</td>\n",
       "      <td>Slam Dunk Shot</td>\n",
       "    </tr>\n",
       "    <tr>\n",
       "      <th>1621</th>\n",
       "      <td>Dunk</td>\n",
       "      <td>Follow Up Dunk Shot</td>\n",
       "    </tr>\n",
       "    <tr>\n",
       "      <th>2815</th>\n",
       "      <td>Hook Shot</td>\n",
       "      <td>Turnaround Hook Shot</td>\n",
       "    </tr>\n",
       "    <tr>\n",
       "      <th>2238</th>\n",
       "      <td>Hook Shot</td>\n",
       "      <td>Hook Shot</td>\n",
       "    </tr>\n",
       "    <tr>\n",
       "      <th>7008</th>\n",
       "      <td>Hook Shot</td>\n",
       "      <td>Driving Hook Shot</td>\n",
       "    </tr>\n",
       "    <tr>\n",
       "      <th>123</th>\n",
       "      <td>Hook Shot</td>\n",
       "      <td>Running Hook Shot</td>\n",
       "    </tr>\n",
       "    <tr>\n",
       "      <th>11596</th>\n",
       "      <td>Jump Shot</td>\n",
       "      <td>Pullup Jump shot</td>\n",
       "    </tr>\n",
       "    <tr>\n",
       "      <th>12713</th>\n",
       "      <td>Jump Shot</td>\n",
       "      <td>Driving Jump shot</td>\n",
       "    </tr>\n",
       "    <tr>\n",
       "      <th>21916</th>\n",
       "      <td>Jump Shot</td>\n",
       "      <td>Driving Floating Jump Shot</td>\n",
       "    </tr>\n",
       "    <tr>\n",
       "      <th>11796</th>\n",
       "      <td>Jump Shot</td>\n",
       "      <td>Step Back Jump shot</td>\n",
       "    </tr>\n",
       "    <tr>\n",
       "      <th>22098</th>\n",
       "      <td>Jump Shot</td>\n",
       "      <td>Running Pull-Up Jump Shot</td>\n",
       "    </tr>\n",
       "    <tr>\n",
       "      <th>11679</th>\n",
       "      <td>Jump Shot</td>\n",
       "      <td>Turnaround Fadeaway shot</td>\n",
       "    </tr>\n",
       "    <tr>\n",
       "      <th>22392</th>\n",
       "      <td>Jump Shot</td>\n",
       "      <td>Driving Floating Bank Jump Shot</td>\n",
       "    </tr>\n",
       "    <tr>\n",
       "      <th>11989</th>\n",
       "      <td>Jump Shot</td>\n",
       "      <td>Floating Jump shot</td>\n",
       "    </tr>\n",
       "    <tr>\n",
       "      <th>11584</th>\n",
       "      <td>Jump Shot</td>\n",
       "      <td>Fadeaway Bank shot</td>\n",
       "    </tr>\n",
       "    <tr>\n",
       "      <th>0</th>\n",
       "      <td>Jump Shot</td>\n",
       "      <td>Jump Shot</td>\n",
       "    </tr>\n",
       "    <tr>\n",
       "      <th>22577</th>\n",
       "      <td>Jump Shot</td>\n",
       "      <td>Turnaround Fadeaway Bank Jump Shot</td>\n",
       "    </tr>\n",
       "    <tr>\n",
       "      <th>9</th>\n",
       "      <td>Jump Shot</td>\n",
       "      <td>Running Jump Shot</td>\n",
       "    </tr>\n",
       "    <tr>\n",
       "      <th>5251</th>\n",
       "      <td>Jump Shot</td>\n",
       "      <td>Jump Bank Shot</td>\n",
       "    </tr>\n",
       "    <tr>\n",
       "      <th>4541</th>\n",
       "      <td>Jump Shot</td>\n",
       "      <td>Jump Hook Shot</td>\n",
       "    </tr>\n",
       "    <tr>\n",
       "      <th>1562</th>\n",
       "      <td>Jump Shot</td>\n",
       "      <td>Fadeaway Jump Shot</td>\n",
       "    </tr>\n",
       "    <tr>\n",
       "      <th>85</th>\n",
       "      <td>Jump Shot</td>\n",
       "      <td>Turnaround Jump Shot</td>\n",
       "    </tr>\n",
       "    <tr>\n",
       "      <th>11471</th>\n",
       "      <td>Layup</td>\n",
       "      <td>Running Reverse Layup Shot</td>\n",
       "    </tr>\n",
       "    <tr>\n",
       "      <th>6</th>\n",
       "      <td>Layup</td>\n",
       "      <td>Layup Shot</td>\n",
       "    </tr>\n",
       "    <tr>\n",
       "      <th>22319</th>\n",
       "      <td>Layup</td>\n",
       "      <td>Tip Layup Shot</td>\n",
       "    </tr>\n",
       "    <tr>\n",
       "      <th>16</th>\n",
       "      <td>Layup</td>\n",
       "      <td>Driving Layup Shot</td>\n",
       "    </tr>\n",
       "    <tr>\n",
       "      <th>21860</th>\n",
       "      <td>Layup</td>\n",
       "      <td>Cutting Layup Shot</td>\n",
       "    </tr>\n",
       "    <tr>\n",
       "      <th>36</th>\n",
       "      <td>Layup</td>\n",
       "      <td>Reverse Layup Shot</td>\n",
       "    </tr>\n",
       "    <tr>\n",
       "      <th>289</th>\n",
       "      <td>Layup</td>\n",
       "      <td>Alley Oop Layup shot</td>\n",
       "    </tr>\n",
       "    <tr>\n",
       "      <th>12640</th>\n",
       "      <td>Layup</td>\n",
       "      <td>Putback Layup Shot</td>\n",
       "    </tr>\n",
       "    <tr>\n",
       "      <th>789</th>\n",
       "      <td>Layup</td>\n",
       "      <td>Running Layup Shot</td>\n",
       "    </tr>\n",
       "    <tr>\n",
       "      <th>11528</th>\n",
       "      <td>Layup</td>\n",
       "      <td>Driving Finger Roll Layup Shot</td>\n",
       "    </tr>\n",
       "    <tr>\n",
       "      <th>913</th>\n",
       "      <td>Layup</td>\n",
       "      <td>Finger Roll Shot</td>\n",
       "    </tr>\n",
       "    <tr>\n",
       "      <th>11913</th>\n",
       "      <td>Layup</td>\n",
       "      <td>Running Finger Roll Layup Shot</td>\n",
       "    </tr>\n",
       "    <tr>\n",
       "      <th>4848</th>\n",
       "      <td>Layup</td>\n",
       "      <td>Running Finger Roll Shot</td>\n",
       "    </tr>\n",
       "    <tr>\n",
       "      <th>11688</th>\n",
       "      <td>Layup</td>\n",
       "      <td>Driving Reverse Layup Shot</td>\n",
       "    </tr>\n",
       "    <tr>\n",
       "      <th>5728</th>\n",
       "      <td>Layup</td>\n",
       "      <td>Turnaround Finger Roll Shot</td>\n",
       "    </tr>\n",
       "    <tr>\n",
       "      <th>11613</th>\n",
       "      <td>Layup</td>\n",
       "      <td>Finger Roll Layup Shot</td>\n",
       "    </tr>\n",
       "    <tr>\n",
       "      <th>577</th>\n",
       "      <td>Layup</td>\n",
       "      <td>Driving Finger Roll Shot</td>\n",
       "    </tr>\n",
       "    <tr>\n",
       "      <th>22623</th>\n",
       "      <td>Layup</td>\n",
       "      <td>Cutting Finger Roll Layup Shot</td>\n",
       "    </tr>\n",
       "    <tr>\n",
       "      <th>116</th>\n",
       "      <td>Tip Shot</td>\n",
       "      <td>Tip Shot</td>\n",
       "    </tr>\n",
       "    <tr>\n",
       "      <th>3817</th>\n",
       "      <td>Tip Shot</td>\n",
       "      <td>Running Tip Shot</td>\n",
       "    </tr>\n",
       "  </tbody>\n",
       "</table>\n",
       "</div>"
      ],
      "text/plain": [
       "      combined_shot_type                         action_type\n",
       "12043          Bank Shot                   Running Bank shot\n",
       "6576           Bank Shot                      Hook Bank Shot\n",
       "12534          Bank Shot                   Driving Bank shot\n",
       "11825          Bank Shot                Turnaround Bank shot\n",
       "13291          Bank Shot                    Pullup Bank shot\n",
       "312                 Dunk                   Running Dunk Shot\n",
       "164                 Dunk                           Dunk Shot\n",
       "144                 Dunk                 Alley Oop Dunk Shot\n",
       "12001               Dunk              Putback Slam Dunk Shot\n",
       "13042               Dunk                   Putback Dunk Shot\n",
       "46                  Dunk                   Reverse Dunk Shot\n",
       "20707               Dunk              Running Slam Dunk Shot\n",
       "11813               Dunk              Reverse Slam Dunk Shot\n",
       "11776               Dunk              Driving Slam Dunk Shot\n",
       "4                   Dunk                   Driving Dunk Shot\n",
       "47                  Dunk                      Slam Dunk Shot\n",
       "1621                Dunk                 Follow Up Dunk Shot\n",
       "2815           Hook Shot                Turnaround Hook Shot\n",
       "2238           Hook Shot                           Hook Shot\n",
       "7008           Hook Shot                   Driving Hook Shot\n",
       "123            Hook Shot                   Running Hook Shot\n",
       "11596          Jump Shot                    Pullup Jump shot\n",
       "12713          Jump Shot                   Driving Jump shot\n",
       "21916          Jump Shot          Driving Floating Jump Shot\n",
       "11796          Jump Shot                 Step Back Jump shot\n",
       "22098          Jump Shot           Running Pull-Up Jump Shot\n",
       "11679          Jump Shot            Turnaround Fadeaway shot\n",
       "22392          Jump Shot     Driving Floating Bank Jump Shot\n",
       "11989          Jump Shot                  Floating Jump shot\n",
       "11584          Jump Shot                  Fadeaway Bank shot\n",
       "0              Jump Shot                           Jump Shot\n",
       "22577          Jump Shot  Turnaround Fadeaway Bank Jump Shot\n",
       "9              Jump Shot                   Running Jump Shot\n",
       "5251           Jump Shot                      Jump Bank Shot\n",
       "4541           Jump Shot                      Jump Hook Shot\n",
       "1562           Jump Shot                  Fadeaway Jump Shot\n",
       "85             Jump Shot                Turnaround Jump Shot\n",
       "11471              Layup          Running Reverse Layup Shot\n",
       "6                  Layup                          Layup Shot\n",
       "22319              Layup                      Tip Layup Shot\n",
       "16                 Layup                  Driving Layup Shot\n",
       "21860              Layup                  Cutting Layup Shot\n",
       "36                 Layup                  Reverse Layup Shot\n",
       "289                Layup                Alley Oop Layup shot\n",
       "12640              Layup                  Putback Layup Shot\n",
       "789                Layup                  Running Layup Shot\n",
       "11528              Layup      Driving Finger Roll Layup Shot\n",
       "913                Layup                    Finger Roll Shot\n",
       "11913              Layup      Running Finger Roll Layup Shot\n",
       "4848               Layup            Running Finger Roll Shot\n",
       "11688              Layup          Driving Reverse Layup Shot\n",
       "5728               Layup         Turnaround Finger Roll Shot\n",
       "11613              Layup              Finger Roll Layup Shot\n",
       "577                Layup            Driving Finger Roll Shot\n",
       "22623              Layup      Cutting Finger Roll Layup Shot\n",
       "116             Tip Shot                            Tip Shot\n",
       "3817            Tip Shot                    Running Tip Shot"
      ]
     },
     "execution_count": 132,
     "metadata": {},
     "output_type": "execute_result"
    }
   ],
   "source": [
    "data[['combined_shot_type','action_type']].drop_duplicates().sort_values('combined_shot_type')"
   ]
  },
  {
   "cell_type": "markdown",
   "metadata": {},
   "source": [
    "shot_type is more detailed than combined_shot_type. Can delete combined_shot_type"
   ]
  },
  {
   "cell_type": "code",
   "execution_count": 133,
   "metadata": {},
   "outputs": [],
   "source": [
    "del data['combined_shot_type']"
   ]
  },
  {
   "cell_type": "markdown",
   "metadata": {},
   "source": [
    "For classification, change format of shot_made_flag from numeric to category."
   ]
  },
  {
   "cell_type": "code",
   "execution_count": 134,
   "metadata": {},
   "outputs": [],
   "source": [
    "data['shot_made_flag'] = data['shot_made_flag'].apply(lambda x : '' if np.isnan(x) else ('1' if x==1.0 else '0'))"
   ]
  },
  {
   "cell_type": "markdown",
   "metadata": {},
   "source": [
    "### __Dataset after cleaning__"
   ]
  },
  {
   "cell_type": "code",
   "execution_count": 135,
   "metadata": {},
   "outputs": [
    {
     "data": {
      "text/html": [
       "<div>\n",
       "<style scoped>\n",
       "    .dataframe tbody tr th:only-of-type {\n",
       "        vertical-align: middle;\n",
       "    }\n",
       "\n",
       "    .dataframe tbody tr th {\n",
       "        vertical-align: top;\n",
       "    }\n",
       "\n",
       "    .dataframe thead th {\n",
       "        text-align: right;\n",
       "    }\n",
       "</style>\n",
       "<table border=\"1\" class=\"dataframe\">\n",
       "  <thead>\n",
       "    <tr style=\"text-align: right;\">\n",
       "      <th></th>\n",
       "      <th>action_type</th>\n",
       "      <th>loc_x</th>\n",
       "      <th>loc_y</th>\n",
       "      <th>minutes_remaining</th>\n",
       "      <th>period</th>\n",
       "      <th>playoffs</th>\n",
       "      <th>season</th>\n",
       "      <th>seconds_remaining</th>\n",
       "      <th>shot_distance</th>\n",
       "      <th>shot_made_flag</th>\n",
       "      <th>shot_type</th>\n",
       "      <th>shot_zone_area</th>\n",
       "      <th>shot_zone_basic</th>\n",
       "      <th>shot_zone_range</th>\n",
       "      <th>game_date</th>\n",
       "      <th>opponent</th>\n",
       "    </tr>\n",
       "  </thead>\n",
       "  <tbody>\n",
       "    <tr>\n",
       "      <th>0</th>\n",
       "      <td>Jump Shot</td>\n",
       "      <td>167</td>\n",
       "      <td>72</td>\n",
       "      <td>10</td>\n",
       "      <td>1</td>\n",
       "      <td>0</td>\n",
       "      <td>2000-01</td>\n",
       "      <td>27</td>\n",
       "      <td>18</td>\n",
       "      <td>NaN</td>\n",
       "      <td>2PT Field Goal</td>\n",
       "      <td>Right Side(R)</td>\n",
       "      <td>Mid-Range</td>\n",
       "      <td>16-24 ft.</td>\n",
       "      <td>2000-10-31</td>\n",
       "      <td>POR</td>\n",
       "    </tr>\n",
       "    <tr>\n",
       "      <th>1</th>\n",
       "      <td>Jump Shot</td>\n",
       "      <td>-157</td>\n",
       "      <td>0</td>\n",
       "      <td>10</td>\n",
       "      <td>1</td>\n",
       "      <td>0</td>\n",
       "      <td>2000-01</td>\n",
       "      <td>22</td>\n",
       "      <td>15</td>\n",
       "      <td>0</td>\n",
       "      <td>2PT Field Goal</td>\n",
       "      <td>Left Side(L)</td>\n",
       "      <td>Mid-Range</td>\n",
       "      <td>8-16 ft.</td>\n",
       "      <td>2000-10-31</td>\n",
       "      <td>POR</td>\n",
       "    </tr>\n",
       "    <tr>\n",
       "      <th>2</th>\n",
       "      <td>Jump Shot</td>\n",
       "      <td>-101</td>\n",
       "      <td>135</td>\n",
       "      <td>7</td>\n",
       "      <td>1</td>\n",
       "      <td>0</td>\n",
       "      <td>2000-01</td>\n",
       "      <td>45</td>\n",
       "      <td>16</td>\n",
       "      <td>1</td>\n",
       "      <td>2PT Field Goal</td>\n",
       "      <td>Left Side Center(LC)</td>\n",
       "      <td>Mid-Range</td>\n",
       "      <td>16-24 ft.</td>\n",
       "      <td>2000-10-31</td>\n",
       "      <td>POR</td>\n",
       "    </tr>\n",
       "    <tr>\n",
       "      <th>3</th>\n",
       "      <td>Jump Shot</td>\n",
       "      <td>138</td>\n",
       "      <td>175</td>\n",
       "      <td>6</td>\n",
       "      <td>1</td>\n",
       "      <td>0</td>\n",
       "      <td>2000-01</td>\n",
       "      <td>52</td>\n",
       "      <td>22</td>\n",
       "      <td>0</td>\n",
       "      <td>2PT Field Goal</td>\n",
       "      <td>Right Side Center(RC)</td>\n",
       "      <td>Mid-Range</td>\n",
       "      <td>16-24 ft.</td>\n",
       "      <td>2000-10-31</td>\n",
       "      <td>POR</td>\n",
       "    </tr>\n",
       "    <tr>\n",
       "      <th>4</th>\n",
       "      <td>Driving Dunk Shot</td>\n",
       "      <td>0</td>\n",
       "      <td>0</td>\n",
       "      <td>6</td>\n",
       "      <td>2</td>\n",
       "      <td>0</td>\n",
       "      <td>2000-01</td>\n",
       "      <td>19</td>\n",
       "      <td>0</td>\n",
       "      <td>1</td>\n",
       "      <td>2PT Field Goal</td>\n",
       "      <td>Center(C)</td>\n",
       "      <td>Restricted Area</td>\n",
       "      <td>Less Than 8 ft.</td>\n",
       "      <td>2000-10-31</td>\n",
       "      <td>POR</td>\n",
       "    </tr>\n",
       "  </tbody>\n",
       "</table>\n",
       "</div>"
      ],
      "text/plain": [
       "         action_type  loc_x  loc_y  minutes_remaining period playoffs  \\\n",
       "0          Jump Shot    167     72                 10      1        0   \n",
       "1          Jump Shot   -157      0                 10      1        0   \n",
       "2          Jump Shot   -101    135                  7      1        0   \n",
       "3          Jump Shot    138    175                  6      1        0   \n",
       "4  Driving Dunk Shot      0      0                  6      2        0   \n",
       "\n",
       "    season  seconds_remaining  shot_distance shot_made_flag       shot_type  \\\n",
       "0  2000-01                 27             18            NaN  2PT Field Goal   \n",
       "1  2000-01                 22             15              0  2PT Field Goal   \n",
       "2  2000-01                 45             16              1  2PT Field Goal   \n",
       "3  2000-01                 52             22              0  2PT Field Goal   \n",
       "4  2000-01                 19              0              1  2PT Field Goal   \n",
       "\n",
       "          shot_zone_area  shot_zone_basic  shot_zone_range   game_date  \\\n",
       "0          Right Side(R)        Mid-Range        16-24 ft.  2000-10-31   \n",
       "1           Left Side(L)        Mid-Range         8-16 ft.  2000-10-31   \n",
       "2   Left Side Center(LC)        Mid-Range        16-24 ft.  2000-10-31   \n",
       "3  Right Side Center(RC)        Mid-Range        16-24 ft.  2000-10-31   \n",
       "4              Center(C)  Restricted Area  Less Than 8 ft.  2000-10-31   \n",
       "\n",
       "  opponent  \n",
       "0      POR  \n",
       "1      POR  \n",
       "2      POR  \n",
       "3      POR  \n",
       "4      POR  "
      ]
     },
     "execution_count": 135,
     "metadata": {},
     "output_type": "execute_result"
    }
   ],
   "source": [
    "data.head()"
   ]
  },
  {
   "cell_type": "markdown",
   "metadata": {},
   "source": [
    "## __5. Data transformation__"
   ]
  },
  {
   "cell_type": "markdown",
   "metadata": {},
   "source": [
    "First is to deal with date and time. \n",
    "<br>Combine seconds_remaining and minutes_remaining to form one column time-remaining.\n",
    "<br>Separate game_date by year, month, day"
   ]
  },
  {
   "cell_type": "code",
   "execution_count": 136,
   "metadata": {},
   "outputs": [],
   "source": [
    "data['time_remaining']=data['seconds_remaining']/60+data['minutes_remaining']\n",
    "del data['seconds_remaining'] \n",
    "del data['minutes_remaining']\n",
    "data['game_date']=pd.to_datetime(data['game_date'])\n",
    "data['year']=data['game_date'].dt.year\n",
    "data['month']=data['game_date'].dt.month\n",
    "data['day']=data['game_date'].dt.day\n",
    "del data['game_date']"
   ]
  },
  {
   "cell_type": "markdown",
   "metadata": {},
   "source": [
    "Second is adding a new indicator for loc_y > 300 "
   ]
  },
  {
   "cell_type": "code",
   "execution_count": 137,
   "metadata": {},
   "outputs": [],
   "source": [
    "data['loc_y_300'] = data['loc_y'].apply(lambda x : '1' if x>300 else '0').astype('category')"
   ]
  },
  {
   "cell_type": "markdown",
   "metadata": {},
   "source": [
    "Third is to create dummy variables for categorical columns "
   ]
  },
  {
   "cell_type": "code",
   "execution_count": 138,
   "metadata": {},
   "outputs": [],
   "source": [
    "category_variable = list(data.select_dtypes(include='category').columns.values)"
   ]
  },
  {
   "cell_type": "code",
   "execution_count": 139,
   "metadata": {},
   "outputs": [
    {
     "data": {
      "text/plain": [
       "['action_type',\n",
       " 'period',\n",
       " 'playoffs',\n",
       " 'season',\n",
       " 'shot_made_flag',\n",
       " 'shot_type',\n",
       " 'shot_zone_area',\n",
       " 'shot_zone_basic',\n",
       " 'shot_zone_range',\n",
       " 'opponent',\n",
       " 'loc_y_300']"
      ]
     },
     "execution_count": 139,
     "metadata": {},
     "output_type": "execute_result"
    }
   ],
   "source": [
    "category_variable"
   ]
  },
  {
   "cell_type": "markdown",
   "metadata": {},
   "source": [
    "Need to keep shot_made_flag from category_variable "
   ]
  },
  {
   "cell_type": "code",
   "execution_count": 140,
   "metadata": {},
   "outputs": [],
   "source": [
    "category_variable.remove('shot_made_flag')"
   ]
  },
  {
   "cell_type": "code",
   "execution_count": null,
   "metadata": {},
   "outputs": [],
   "source": []
  },
  {
   "cell_type": "code",
   "execution_count": 141,
   "metadata": {},
   "outputs": [
    {
     "data": {
      "text/plain": [
       "(30697, 149)"
      ]
     },
     "execution_count": 141,
     "metadata": {},
     "output_type": "execute_result"
    }
   ],
   "source": [
    "\n",
    "for i in category_variable:\n",
    "    data_category=pd.get_dummies(data[i])\n",
    "    data_category = data_category.add_prefix(\"{}#\".format(i))\n",
    "    data.drop(i,axis=1, inplace=True)\n",
    "    data=data.join(data_category)\n",
    "data.shape"
   ]
  },
  {
   "cell_type": "code",
   "execution_count": null,
   "metadata": {},
   "outputs": [],
   "source": []
  },
  {
   "cell_type": "markdown",
   "metadata": {},
   "source": [
    "Final is to separate training set and test set"
   ]
  },
  {
   "cell_type": "code",
   "execution_count": 142,
   "metadata": {},
   "outputs": [],
   "source": [
    "learning_set= data[data['shot_made_flag'].notnull()]"
   ]
  },
  {
   "cell_type": "code",
   "execution_count": 143,
   "metadata": {},
   "outputs": [],
   "source": [
    "validation_set=data[data['shot_made_flag'].isnull()]"
   ]
  },
  {
   "cell_type": "code",
   "execution_count": 144,
   "metadata": {},
   "outputs": [
    {
     "data": {
      "text/plain": [
       "(25697, 149)"
      ]
     },
     "execution_count": 144,
     "metadata": {},
     "output_type": "execute_result"
    }
   ],
   "source": [
    "learning_set.shape"
   ]
  },
  {
   "cell_type": "code",
   "execution_count": 145,
   "metadata": {},
   "outputs": [
    {
     "data": {
      "text/plain": [
       "(5000, 149)"
      ]
     },
     "execution_count": 145,
     "metadata": {},
     "output_type": "execute_result"
    }
   ],
   "source": [
    "validation_set.shape"
   ]
  },
  {
   "cell_type": "markdown",
   "metadata": {},
   "source": [
    "There are 25697 training records and 5000 test records.\n",
    "<br>There are 141 columns"
   ]
  },
  {
   "cell_type": "code",
   "execution_count": 146,
   "metadata": {},
   "outputs": [
    {
     "data": {
      "text/plain": [
       "loc_x                                             int64\n",
       "loc_y                                             int64\n",
       "shot_distance                                     int64\n",
       "shot_made_flag                                 category\n",
       "time_remaining                                  float64\n",
       "year                                              int64\n",
       "month                                             int64\n",
       "day                                               int64\n",
       "action_type#Alley Oop Dunk Shot                   uint8\n",
       "action_type#Alley Oop Layup shot                  uint8\n",
       "action_type#Cutting Finger Roll Layup Shot        uint8\n",
       "action_type#Cutting Layup Shot                    uint8\n",
       "action_type#Driving Bank shot                     uint8\n",
       "action_type#Driving Dunk Shot                     uint8\n",
       "action_type#Driving Finger Roll Layup Shot        uint8\n",
       "action_type#Driving Finger Roll Shot              uint8\n",
       "action_type#Driving Floating Bank Jump Shot       uint8\n",
       "action_type#Driving Floating Jump Shot            uint8\n",
       "action_type#Driving Hook Shot                     uint8\n",
       "action_type#Driving Jump shot                     uint8\n",
       "action_type#Driving Layup Shot                    uint8\n",
       "action_type#Driving Reverse Layup Shot            uint8\n",
       "action_type#Driving Slam Dunk Shot                uint8\n",
       "action_type#Dunk Shot                             uint8\n",
       "action_type#Fadeaway Bank shot                    uint8\n",
       "action_type#Fadeaway Jump Shot                    uint8\n",
       "action_type#Finger Roll Layup Shot                uint8\n",
       "action_type#Finger Roll Shot                      uint8\n",
       "action_type#Floating Jump shot                    uint8\n",
       "action_type#Follow Up Dunk Shot                   uint8\n",
       "                                                 ...   \n",
       "opponent#CLE                                      uint8\n",
       "opponent#DAL                                      uint8\n",
       "opponent#DEN                                      uint8\n",
       "opponent#DET                                      uint8\n",
       "opponent#GSW                                      uint8\n",
       "opponent#HOU                                      uint8\n",
       "opponent#IND                                      uint8\n",
       "opponent#LAC                                      uint8\n",
       "opponent#MEM                                      uint8\n",
       "opponent#MIA                                      uint8\n",
       "opponent#MIL                                      uint8\n",
       "opponent#MIN                                      uint8\n",
       "opponent#NJN                                      uint8\n",
       "opponent#NOH                                      uint8\n",
       "opponent#NOP                                      uint8\n",
       "opponent#NYK                                      uint8\n",
       "opponent#OKC                                      uint8\n",
       "opponent#ORL                                      uint8\n",
       "opponent#PHI                                      uint8\n",
       "opponent#PHX                                      uint8\n",
       "opponent#POR                                      uint8\n",
       "opponent#SAC                                      uint8\n",
       "opponent#SAS                                      uint8\n",
       "opponent#SEA                                      uint8\n",
       "opponent#TOR                                      uint8\n",
       "opponent#UTA                                      uint8\n",
       "opponent#VAN                                      uint8\n",
       "opponent#WAS                                      uint8\n",
       "loc_y_300#0                                       uint8\n",
       "loc_y_300#1                                       uint8\n",
       "Length: 149, dtype: object"
      ]
     },
     "execution_count": 146,
     "metadata": {},
     "output_type": "execute_result"
    }
   ],
   "source": [
    "learning_set.dtypes"
   ]
  },
  {
   "cell_type": "markdown",
   "metadata": {},
   "source": [
    "## 6. Modelling"
   ]
  },
  {
   "cell_type": "markdown",
   "metadata": {},
   "source": [
    "Two modelling will be used. First is random forest classifier; second is logistic regression"
   ]
  },
  {
   "cell_type": "code",
   "execution_count": 147,
   "metadata": {},
   "outputs": [],
   "source": [
    "learning_data=learning_set.drop('shot_made_flag',axis=1)\n",
    "learning_target=learning_set['shot_made_flag']"
   ]
  },
  {
   "cell_type": "markdown",
   "metadata": {},
   "source": [
    "### 6.1 Random forest classifier "
   ]
  },
  {
   "cell_type": "markdown",
   "metadata": {},
   "source": [
    "30% of learning set will be used as test set."
   ]
  },
  {
   "cell_type": "code",
   "execution_count": 148,
   "metadata": {},
   "outputs": [],
   "source": [
    "X_train,X_test,y_train,y_test = train_test_split(learning_data,learning_target,test_size=0.3,random_state=42)"
   ]
  },
  {
   "cell_type": "code",
   "execution_count": 149,
   "metadata": {},
   "outputs": [],
   "source": [
    "random_forest_model = RandomForestClassifier(n_estimators=100,min_samples_leaf=50)"
   ]
  },
  {
   "cell_type": "code",
   "execution_count": 150,
   "metadata": {},
   "outputs": [
    {
     "data": {
      "text/plain": [
       "RandomForestClassifier(bootstrap=True, class_weight=None, criterion='gini',\n",
       "            max_depth=None, max_features='auto', max_leaf_nodes=None,\n",
       "            min_impurity_decrease=0.0, min_impurity_split=None,\n",
       "            min_samples_leaf=50, min_samples_split=2,\n",
       "            min_weight_fraction_leaf=0.0, n_estimators=100, n_jobs=1,\n",
       "            oob_score=False, random_state=None, verbose=0,\n",
       "            warm_start=False)"
      ]
     },
     "execution_count": 150,
     "metadata": {},
     "output_type": "execute_result"
    }
   ],
   "source": [
    "random_forest_model.fit(X_train,y_train)"
   ]
  },
  {
   "cell_type": "code",
   "execution_count": 151,
   "metadata": {},
   "outputs": [
    {
     "data": {
      "text/plain": [
       "0.6740596627756161"
      ]
     },
     "execution_count": 151,
     "metadata": {},
     "output_type": "execute_result"
    }
   ],
   "source": [
    "random_forest_model.score(X_test,y_test)"
   ]
  },
  {
   "cell_type": "markdown",
   "metadata": {},
   "source": [
    "67% of correct prediction. Not good nor bad."
   ]
  },
  {
   "cell_type": "markdown",
   "metadata": {},
   "source": [
    "Next step, see which variables are more important by comparing feature_importances_ in random_forest_model "
   ]
  },
  {
   "cell_type": "code",
   "execution_count": 152,
   "metadata": {},
   "outputs": [],
   "source": [
    "variables_scores = pd.DataFrame(random_forest_model.feature_importances_, index=X_test.columns, columns=[\"cum_scores\"])\n"
   ]
  },
  {
   "cell_type": "code",
   "execution_count": 153,
   "metadata": {},
   "outputs": [
    {
     "data": {
      "text/html": [
       "<div>\n",
       "<style scoped>\n",
       "    .dataframe tbody tr th:only-of-type {\n",
       "        vertical-align: middle;\n",
       "    }\n",
       "\n",
       "    .dataframe tbody tr th {\n",
       "        vertical-align: top;\n",
       "    }\n",
       "\n",
       "    .dataframe thead th {\n",
       "        text-align: right;\n",
       "    }\n",
       "</style>\n",
       "<table border=\"1\" class=\"dataframe\">\n",
       "  <thead>\n",
       "    <tr style=\"text-align: right;\">\n",
       "      <th></th>\n",
       "      <th>cum_scores</th>\n",
       "    </tr>\n",
       "  </thead>\n",
       "  <tbody>\n",
       "    <tr>\n",
       "      <th>action_type#Jump Shot</th>\n",
       "      <td>0.262809</td>\n",
       "    </tr>\n",
       "    <tr>\n",
       "      <th>action_type#Layup Shot</th>\n",
       "      <td>0.348597</td>\n",
       "    </tr>\n",
       "    <tr>\n",
       "      <th>shot_distance</th>\n",
       "      <td>0.431282</td>\n",
       "    </tr>\n",
       "    <tr>\n",
       "      <th>shot_zone_basic#Restricted Area</th>\n",
       "      <td>0.487956</td>\n",
       "    </tr>\n",
       "    <tr>\n",
       "      <th>loc_y</th>\n",
       "      <td>0.534986</td>\n",
       "    </tr>\n",
       "    <tr>\n",
       "      <th>action_type#Slam Dunk Shot</th>\n",
       "      <td>0.576520</td>\n",
       "    </tr>\n",
       "    <tr>\n",
       "      <th>action_type#Driving Layup Shot</th>\n",
       "      <td>0.616383</td>\n",
       "    </tr>\n",
       "    <tr>\n",
       "      <th>time_remaining</th>\n",
       "      <td>0.652287</td>\n",
       "    </tr>\n",
       "    <tr>\n",
       "      <th>shot_zone_range#Less Than 8 ft.</th>\n",
       "      <td>0.684538</td>\n",
       "    </tr>\n",
       "    <tr>\n",
       "      <th>action_type#Running Jump Shot</th>\n",
       "      <td>0.716331</td>\n",
       "    </tr>\n",
       "    <tr>\n",
       "      <th>loc_x</th>\n",
       "      <td>0.741733</td>\n",
       "    </tr>\n",
       "    <tr>\n",
       "      <th>year</th>\n",
       "      <td>0.763414</td>\n",
       "    </tr>\n",
       "    <tr>\n",
       "      <th>action_type#Driving Dunk Shot</th>\n",
       "      <td>0.781742</td>\n",
       "    </tr>\n",
       "    <tr>\n",
       "      <th>shot_zone_area#Center(C)</th>\n",
       "      <td>0.799882</td>\n",
       "    </tr>\n",
       "    <tr>\n",
       "      <th>shot_type#3PT Field Goal</th>\n",
       "      <td>0.814783</td>\n",
       "    </tr>\n",
       "    <tr>\n",
       "      <th>day</th>\n",
       "      <td>0.829565</td>\n",
       "    </tr>\n",
       "    <tr>\n",
       "      <th>shot_zone_range#24+ ft.</th>\n",
       "      <td>0.843385</td>\n",
       "    </tr>\n",
       "    <tr>\n",
       "      <th>action_type#Pullup Jump shot</th>\n",
       "      <td>0.855758</td>\n",
       "    </tr>\n",
       "    <tr>\n",
       "      <th>action_type#Jump Bank Shot</th>\n",
       "      <td>0.866699</td>\n",
       "    </tr>\n",
       "    <tr>\n",
       "      <th>action_type#Turnaround Jump Shot</th>\n",
       "      <td>0.877178</td>\n",
       "    </tr>\n",
       "  </tbody>\n",
       "</table>\n",
       "</div>"
      ],
      "text/plain": [
       "                                  cum_scores\n",
       "action_type#Jump Shot               0.262809\n",
       "action_type#Layup Shot              0.348597\n",
       "shot_distance                       0.431282\n",
       "shot_zone_basic#Restricted Area     0.487956\n",
       "loc_y                               0.534986\n",
       "action_type#Slam Dunk Shot          0.576520\n",
       "action_type#Driving Layup Shot      0.616383\n",
       "time_remaining                      0.652287\n",
       "shot_zone_range#Less Than 8 ft.     0.684538\n",
       "action_type#Running Jump Shot       0.716331\n",
       "loc_x                               0.741733\n",
       "year                                0.763414\n",
       "action_type#Driving Dunk Shot       0.781742\n",
       "shot_zone_area#Center(C)            0.799882\n",
       "shot_type#3PT Field Goal            0.814783\n",
       "day                                 0.829565\n",
       "shot_zone_range#24+ ft.             0.843385\n",
       "action_type#Pullup Jump shot        0.855758\n",
       "action_type#Jump Bank Shot          0.866699\n",
       "action_type#Turnaround Jump Shot    0.877178"
      ]
     },
     "execution_count": 153,
     "metadata": {},
     "output_type": "execute_result"
    }
   ],
   "source": [
    "variables_scores.sort_values(by='cum_scores',ascending=False).cumsum().head(20)"
   ]
  },
  {
   "cell_type": "markdown",
   "metadata": {},
   "source": [
    "20 variables can already explain over 90% of variation."
   ]
  },
  {
   "cell_type": "markdown",
   "metadata": {},
   "source": [
    "<br> See if we can improve the score by changing the sample leaf in random forest model "
   ]
  },
  {
   "cell_type": "code",
   "execution_count": 154,
   "metadata": {},
   "outputs": [
    {
     "name": "stdout",
     "output_type": "stream",
     "text": [
      "13\n",
      "0.677561608300908\n"
     ]
    }
   ],
   "source": [
    "n_leaf=0\n",
    "max_result=0\n",
    "for i in range(10,101):\n",
    "    random_forest_model = RandomForestClassifier(n_estimators=100,min_samples_leaf=i)\n",
    "    random_forest_model.fit(X_train,y_train)\n",
    "    result=random_forest_model.score(X_test,y_test)\n",
    "    if result>max_result:\n",
    "        n_leaf=i\n",
    "        max_result=result\n",
    "print(n_leaf)\n",
    "print(max_result)"
   ]
  },
  {
   "cell_type": "markdown",
   "metadata": {},
   "source": [
    "Well, not too much improvement....."
   ]
  },
  {
   "cell_type": "markdown",
   "metadata": {},
   "source": [
    "### 6.2 Logistic Regression"
   ]
  },
  {
   "cell_type": "code",
   "execution_count": 155,
   "metadata": {},
   "outputs": [],
   "source": [
    "log_reg=LogisticRegression()"
   ]
  },
  {
   "cell_type": "code",
   "execution_count": 156,
   "metadata": {},
   "outputs": [
    {
     "data": {
      "text/plain": [
       "LogisticRegression(C=1.0, class_weight=None, dual=False, fit_intercept=True,\n",
       "          intercept_scaling=1, max_iter=100, multi_class='ovr', n_jobs=1,\n",
       "          penalty='l2', random_state=None, solver='liblinear', tol=0.0001,\n",
       "          verbose=0, warm_start=False)"
      ]
     },
     "execution_count": 156,
     "metadata": {},
     "output_type": "execute_result"
    }
   ],
   "source": [
    "log_reg.fit(X_train,y_train)"
   ]
  },
  {
   "cell_type": "code",
   "execution_count": 157,
   "metadata": {},
   "outputs": [
    {
     "data": {
      "text/plain": [
       "0.6749675745784696"
      ]
     },
     "execution_count": 157,
     "metadata": {},
     "output_type": "execute_result"
    }
   ],
   "source": [
    "log_reg.score(X_test,y_test)"
   ]
  },
  {
   "cell_type": "markdown",
   "metadata": {},
   "source": [
    "Slightly better than random forest classifier with min_samples_leaf=50"
   ]
  },
  {
   "cell_type": "code",
   "execution_count": null,
   "metadata": {},
   "outputs": [],
   "source": []
  }
 ],
 "metadata": {
  "kernelspec": {
   "display_name": "Python 3",
   "language": "python",
   "name": "python3"
  },
  "language_info": {
   "codemirror_mode": {
    "name": "ipython",
    "version": 3
   },
   "file_extension": ".py",
   "mimetype": "text/x-python",
   "name": "python",
   "nbconvert_exporter": "python",
   "pygments_lexer": "ipython3",
   "version": "3.5.5"
  }
 },
 "nbformat": 4,
 "nbformat_minor": 2
}
